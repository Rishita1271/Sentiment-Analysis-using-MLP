{
 "cells": [
  {
   "cell_type": "code",
   "execution_count": 1,
   "id": "8477e565",
   "metadata": {},
   "outputs": [],
   "source": [
    "import bs4\n",
    "import requests"
   ]
  },
  {
   "cell_type": "code",
   "execution_count": 2,
   "id": "bb066f8e",
   "metadata": {},
   "outputs": [],
   "source": [
    "import pandas as pd\n",
    "import json"
   ]
  },
  {
   "cell_type": "code",
   "execution_count": 21,
   "id": "3cda8abd",
   "metadata": {},
   "outputs": [],
   "source": [
    "from urllib.request import urlopen"
   ]
  },
  {
   "cell_type": "code",
   "execution_count": 26,
   "id": "aafe3406",
   "metadata": {},
   "outputs": [],
   "source": [
    "from bs4 import BeautifulSoup as soup"
   ]
  },
  {
   "cell_type": "code",
   "execution_count": 98,
   "id": "adc5631c",
   "metadata": {},
   "outputs": [],
   "source": [
    "imgs = []\n",
    "titles = []\n",
    "prices = []\n",
    "for no in range(1,51):                                                                   #The website has 50 pages\n",
    "    url = 'https://books.toscrape.com/catalogue/page-'+str(no)+'.html'                   #The websites's url\n",
    "    data = urlopen(url)\n",
    "    data_html = data.read()\n",
    "    data_soup = soup(data_html,'html.parser')                                            #Scraping html data\n",
    "    for i in range(0,20):\n",
    "        img = data_soup.findAll('img',{'class':'thumbnail'})[i]['src']                   #Scraping images of books\n",
    "        imgs.append(img)\n",
    "        h3 = data_soup.findAll('h3',{})[i]                                               #Scraping titles of books\n",
    "        title = h3.a['title']\n",
    "        titles.append(title)\n",
    "        price = data_soup.findAll('p',{'class':'price_color'})[i].text                   #Scraping prices of books\n",
    "        prices.append(price)\n",
    "        "
   ]
  },
  {
   "cell_type": "code",
   "execution_count": 99,
   "id": "45f02691",
   "metadata": {},
   "outputs": [],
   "source": [
    "df = pd.DataFrame(data=imgs,columns={'image_url'})"
   ]
  },
  {
   "cell_type": "code",
   "execution_count": 100,
   "id": "f888c919",
   "metadata": {},
   "outputs": [],
   "source": [
    "df['book_title'] = titles"
   ]
  },
  {
   "cell_type": "code",
   "execution_count": 101,
   "id": "fb4ec1ad",
   "metadata": {},
   "outputs": [],
   "source": [
    "df['product_price'] = prices"
   ]
  },
  {
   "cell_type": "code",
   "execution_count": 102,
   "id": "704f036f",
   "metadata": {},
   "outputs": [
    {
     "data": {
      "text/html": [
       "<div>\n",
       "<style scoped>\n",
       "    .dataframe tbody tr th:only-of-type {\n",
       "        vertical-align: middle;\n",
       "    }\n",
       "\n",
       "    .dataframe tbody tr th {\n",
       "        vertical-align: top;\n",
       "    }\n",
       "\n",
       "    .dataframe thead th {\n",
       "        text-align: right;\n",
       "    }\n",
       "</style>\n",
       "<table border=\"1\" class=\"dataframe\">\n",
       "  <thead>\n",
       "    <tr style=\"text-align: right;\">\n",
       "      <th></th>\n",
       "      <th>image_url</th>\n",
       "      <th>book_title</th>\n",
       "      <th>product_price</th>\n",
       "    </tr>\n",
       "  </thead>\n",
       "  <tbody>\n",
       "    <tr>\n",
       "      <th>0</th>\n",
       "      <td>../media/cache/2c/da/2cdad67c44b002e7ead0cc356...</td>\n",
       "      <td>A Light in the Attic</td>\n",
       "      <td>£51.77</td>\n",
       "    </tr>\n",
       "    <tr>\n",
       "      <th>1</th>\n",
       "      <td>../media/cache/26/0c/260c6ae16bce31c8f8c95dadd...</td>\n",
       "      <td>Tipping the Velvet</td>\n",
       "      <td>£53.74</td>\n",
       "    </tr>\n",
       "    <tr>\n",
       "      <th>2</th>\n",
       "      <td>../media/cache/3e/ef/3eef99c9d9adef34639f51066...</td>\n",
       "      <td>Soumission</td>\n",
       "      <td>£50.10</td>\n",
       "    </tr>\n",
       "    <tr>\n",
       "      <th>3</th>\n",
       "      <td>../media/cache/32/51/3251cf3a3412f53f339e42cac...</td>\n",
       "      <td>Sharp Objects</td>\n",
       "      <td>£47.82</td>\n",
       "    </tr>\n",
       "    <tr>\n",
       "      <th>4</th>\n",
       "      <td>../media/cache/be/a5/bea5697f2534a2f86a3ef27b5...</td>\n",
       "      <td>Sapiens: A Brief History of Humankind</td>\n",
       "      <td>£54.23</td>\n",
       "    </tr>\n",
       "    <tr>\n",
       "      <th>...</th>\n",
       "      <td>...</td>\n",
       "      <td>...</td>\n",
       "      <td>...</td>\n",
       "    </tr>\n",
       "    <tr>\n",
       "      <th>995</th>\n",
       "      <td>../media/cache/96/ee/96ee77d71a31b7694dac6855f...</td>\n",
       "      <td>Alice in Wonderland (Alice's Adventures in Won...</td>\n",
       "      <td>£55.53</td>\n",
       "    </tr>\n",
       "    <tr>\n",
       "      <th>996</th>\n",
       "      <td>../media/cache/09/7c/097cb5ecc6fb3fbe1690cf0cb...</td>\n",
       "      <td>Ajin: Demi-Human, Volume 1 (Ajin: Demi-Human #1)</td>\n",
       "      <td>£57.06</td>\n",
       "    </tr>\n",
       "    <tr>\n",
       "      <th>997</th>\n",
       "      <td>../media/cache/1b/5f/1b5ff86f3c75e51e24c573d3f...</td>\n",
       "      <td>A Spy's Devotion (The Regency Spies of London #1)</td>\n",
       "      <td>£16.97</td>\n",
       "    </tr>\n",
       "    <tr>\n",
       "      <th>998</th>\n",
       "      <td>../media/cache/2b/41/2b4161c5b72a4ae386b644682...</td>\n",
       "      <td>1st to Die (Women's Murder Club #1)</td>\n",
       "      <td>£53.98</td>\n",
       "    </tr>\n",
       "    <tr>\n",
       "      <th>999</th>\n",
       "      <td>../media/cache/d7/0f/d70f7edd92705c45a82118c3f...</td>\n",
       "      <td>1,000 Places to See Before You Die</td>\n",
       "      <td>£26.08</td>\n",
       "    </tr>\n",
       "  </tbody>\n",
       "</table>\n",
       "<p>1000 rows × 3 columns</p>\n",
       "</div>"
      ],
      "text/plain": [
       "                                             image_url  \\\n",
       "0    ../media/cache/2c/da/2cdad67c44b002e7ead0cc356...   \n",
       "1    ../media/cache/26/0c/260c6ae16bce31c8f8c95dadd...   \n",
       "2    ../media/cache/3e/ef/3eef99c9d9adef34639f51066...   \n",
       "3    ../media/cache/32/51/3251cf3a3412f53f339e42cac...   \n",
       "4    ../media/cache/be/a5/bea5697f2534a2f86a3ef27b5...   \n",
       "..                                                 ...   \n",
       "995  ../media/cache/96/ee/96ee77d71a31b7694dac6855f...   \n",
       "996  ../media/cache/09/7c/097cb5ecc6fb3fbe1690cf0cb...   \n",
       "997  ../media/cache/1b/5f/1b5ff86f3c75e51e24c573d3f...   \n",
       "998  ../media/cache/2b/41/2b4161c5b72a4ae386b644682...   \n",
       "999  ../media/cache/d7/0f/d70f7edd92705c45a82118c3f...   \n",
       "\n",
       "                                            book_title product_price  \n",
       "0                                 A Light in the Attic        £51.77  \n",
       "1                                   Tipping the Velvet        £53.74  \n",
       "2                                           Soumission        £50.10  \n",
       "3                                        Sharp Objects        £47.82  \n",
       "4                Sapiens: A Brief History of Humankind        £54.23  \n",
       "..                                                 ...           ...  \n",
       "995  Alice in Wonderland (Alice's Adventures in Won...        £55.53  \n",
       "996   Ajin: Demi-Human, Volume 1 (Ajin: Demi-Human #1)        £57.06  \n",
       "997  A Spy's Devotion (The Regency Spies of London #1)        £16.97  \n",
       "998                1st to Die (Women's Murder Club #1)        £53.98  \n",
       "999                 1,000 Places to See Before You Die        £26.08  \n",
       "\n",
       "[1000 rows x 3 columns]"
      ]
     },
     "execution_count": 102,
     "metadata": {},
     "output_type": "execute_result"
    }
   ],
   "source": [
    "df"
   ]
  },
  {
   "cell_type": "code",
   "execution_count": 103,
   "id": "dc1628b5",
   "metadata": {},
   "outputs": [],
   "source": [
    "csv_data = df.to_csv(index=False)"
   ]
  },
  {
   "cell_type": "code",
   "execution_count": 104,
   "id": "33f51746",
   "metadata": {},
   "outputs": [],
   "source": [
    "df.to_csv('Desktop/books.csv', index=False)"
   ]
  },
  {
   "cell_type": "code",
   "execution_count": null,
   "id": "3efcab8f",
   "metadata": {},
   "outputs": [],
   "source": []
  }
 ],
 "metadata": {
  "kernelspec": {
   "display_name": "Python 3",
   "language": "python",
   "name": "python3"
  },
  "language_info": {
   "codemirror_mode": {
    "name": "ipython",
    "version": 3
   },
   "file_extension": ".py",
   "mimetype": "text/x-python",
   "name": "python",
   "nbconvert_exporter": "python",
   "pygments_lexer": "ipython3",
   "version": "3.8.8"
  }
 },
 "nbformat": 4,
 "nbformat_minor": 5
}
